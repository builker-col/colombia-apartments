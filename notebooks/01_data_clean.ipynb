{
 "cells": [
  {
   "cell_type": "code",
   "execution_count": 5,
   "metadata": {},
   "outputs": [],
   "source": [
    "from dotenv import load_dotenv\n",
    "import pandas as pd\n",
    "import numpy as np\n",
    "import pymongo\n",
    "import os"
   ]
  },
  {
   "cell_type": "code",
   "execution_count": 6,
   "metadata": {},
   "outputs": [
    {
     "data": {
      "text/plain": [
       "True"
      ]
     },
     "execution_count": 6,
     "metadata": {},
     "output_type": "execute_result"
    }
   ],
   "source": [
    "load_dotenv()"
   ]
  },
  {
   "cell_type": "code",
   "execution_count": 7,
   "metadata": {},
   "outputs": [
    {
     "data": {
      "text/html": [
       "<div>\n",
       "<style scoped>\n",
       "    .dataframe tbody tr th:only-of-type {\n",
       "        vertical-align: middle;\n",
       "    }\n",
       "\n",
       "    .dataframe tbody tr th {\n",
       "        vertical-align: top;\n",
       "    }\n",
       "\n",
       "    .dataframe thead th {\n",
       "        text-align: right;\n",
       "    }\n",
       "</style>\n",
       "<table border=\"1\" class=\"dataframe\">\n",
       "  <thead>\n",
       "    <tr style=\"text-align: right;\">\n",
       "      <th></th>\n",
       "      <th>codigo</th>\n",
       "      <th>ciudad</th>\n",
       "      <th>tipo_propiedad</th>\n",
       "      <th>tipo_operacion</th>\n",
       "      <th>precio_venta</th>\n",
       "      <th>area</th>\n",
       "      <th>habitaciones</th>\n",
       "      <th>banos</th>\n",
       "      <th>administracion</th>\n",
       "      <th>parqueaderos</th>\n",
       "      <th>...</th>\n",
       "      <th>website</th>\n",
       "      <th>last_view</th>\n",
       "      <th>datetime</th>\n",
       "      <th>precio_arriendo</th>\n",
       "      <th>longitud</th>\n",
       "      <th>latitud</th>\n",
       "      <th>fecha_actualizacion_precio_arriendo</th>\n",
       "      <th>precio_arriendo_anterior</th>\n",
       "      <th>fecha_actualizacion_precio_venta</th>\n",
       "      <th>precio_venta_anterior</th>\n",
       "    </tr>\n",
       "  </thead>\n",
       "  <tbody>\n",
       "    <tr>\n",
       "      <th>0</th>\n",
       "      <td>4933-M3452382</td>\n",
       "      <td>CHIA</td>\n",
       "      <td>APARTAMENTO</td>\n",
       "      <td>VENTA</td>\n",
       "      <td>225000000.0</td>\n",
       "      <td>56.03</td>\n",
       "      <td>2.0</td>\n",
       "      <td>2.0</td>\n",
       "      <td>120000.0</td>\n",
       "      <td>0.0</td>\n",
       "      <td>...</td>\n",
       "      <td>metrocuadrado.com</td>\n",
       "      <td>2023-09-23 19:26:48.110</td>\n",
       "      <td>2023-09-22 19:32:52.583</td>\n",
       "      <td>NaN</td>\n",
       "      <td>NaN</td>\n",
       "      <td>NaN</td>\n",
       "      <td>NaT</td>\n",
       "      <td>NaN</td>\n",
       "      <td>NaT</td>\n",
       "      <td>NaN</td>\n",
       "    </tr>\n",
       "    <tr>\n",
       "      <th>1</th>\n",
       "      <td>3165-M4202228</td>\n",
       "      <td>CHIA</td>\n",
       "      <td>APARTAMENTO</td>\n",
       "      <td>VENTA</td>\n",
       "      <td>290000000.0</td>\n",
       "      <td>83.00</td>\n",
       "      <td>2.0</td>\n",
       "      <td>2.0</td>\n",
       "      <td>NaN</td>\n",
       "      <td>2.0</td>\n",
       "      <td>...</td>\n",
       "      <td>metrocuadrado.com</td>\n",
       "      <td>2023-09-23 19:50:14.971</td>\n",
       "      <td>2023-09-22 19:32:55.890</td>\n",
       "      <td>NaN</td>\n",
       "      <td>NaN</td>\n",
       "      <td>NaN</td>\n",
       "      <td>NaT</td>\n",
       "      <td>NaN</td>\n",
       "      <td>NaT</td>\n",
       "      <td>NaN</td>\n",
       "    </tr>\n",
       "    <tr>\n",
       "      <th>2</th>\n",
       "      <td>13436-M4550058</td>\n",
       "      <td>CHIA</td>\n",
       "      <td>APARTAMENTO</td>\n",
       "      <td>VENTA</td>\n",
       "      <td>215000000.0</td>\n",
       "      <td>44.00</td>\n",
       "      <td>1.0</td>\n",
       "      <td>2.0</td>\n",
       "      <td>242400.0</td>\n",
       "      <td>1.0</td>\n",
       "      <td>...</td>\n",
       "      <td>metrocuadrado.com</td>\n",
       "      <td>2023-09-23 19:45:50.662</td>\n",
       "      <td>2023-09-22 19:32:58.950</td>\n",
       "      <td>NaN</td>\n",
       "      <td>NaN</td>\n",
       "      <td>NaN</td>\n",
       "      <td>NaT</td>\n",
       "      <td>NaN</td>\n",
       "      <td>NaT</td>\n",
       "      <td>NaN</td>\n",
       "    </tr>\n",
       "  </tbody>\n",
       "</table>\n",
       "<p>3 rows × 32 columns</p>\n",
       "</div>"
      ],
      "text/plain": [
       "           codigo ciudad tipo_propiedad tipo_operacion  precio_venta   area  \\\n",
       "0   4933-M3452382   CHIA    APARTAMENTO          VENTA   225000000.0  56.03   \n",
       "1   3165-M4202228   CHIA    APARTAMENTO          VENTA   290000000.0  83.00   \n",
       "2  13436-M4550058   CHIA    APARTAMENTO          VENTA   215000000.0  44.00   \n",
       "\n",
       "   habitaciones  banos  administracion  parqueaderos  ...            website  \\\n",
       "0           2.0    2.0        120000.0           0.0  ...  metrocuadrado.com   \n",
       "1           2.0    2.0             NaN           2.0  ...  metrocuadrado.com   \n",
       "2           1.0    2.0        242400.0           1.0  ...  metrocuadrado.com   \n",
       "\n",
       "                last_view                datetime precio_arriendo longitud  \\\n",
       "0 2023-09-23 19:26:48.110 2023-09-22 19:32:52.583             NaN      NaN   \n",
       "1 2023-09-23 19:50:14.971 2023-09-22 19:32:55.890             NaN      NaN   \n",
       "2 2023-09-23 19:45:50.662 2023-09-22 19:32:58.950             NaN      NaN   \n",
       "\n",
       "  latitud fecha_actualizacion_precio_arriendo precio_arriendo_anterior  \\\n",
       "0     NaN                                 NaT                      NaN   \n",
       "1     NaN                                 NaT                      NaN   \n",
       "2     NaN                                 NaT                      NaN   \n",
       "\n",
       "  fecha_actualizacion_precio_venta precio_venta_anterior  \n",
       "0                              NaT                   NaN  \n",
       "1                              NaT                   NaN  \n",
       "2                              NaT                   NaN  \n",
       "\n",
       "[3 rows x 32 columns]"
      ]
     },
     "execution_count": 7,
     "metadata": {},
     "output_type": "execute_result"
    }
   ],
   "source": [
    "client = pymongo.MongoClient(os.getenv('MONGO_URI'))\n",
    "db = client[os.getenv('MONGO_DATABASE')]\n",
    "collection = db['scrapy_colombia_apartments']\n",
    "\n",
    "df = pd.DataFrame(list(collection.find()))\n",
    "df = df.drop(columns=['_id'], axis=1)\n",
    "\n",
    "df.head(3)"
   ]
  },
  {
   "cell_type": "code",
   "execution_count": 8,
   "metadata": {},
   "outputs": [],
   "source": [
    "images_explode = df.explode('imagenes')\n",
    "images_explode = images_explode.dropna(subset=['imagenes'])"
   ]
  },
  {
   "cell_type": "code",
   "execution_count": 9,
   "metadata": {},
   "outputs": [
    {
     "data": {
      "text/plain": [
       "(298575, 2)"
      ]
     },
     "execution_count": 9,
     "metadata": {},
     "output_type": "execute_result"
    }
   ],
   "source": [
    "images_df = images_explode[['codigo', 'imagenes']].rename(columns={'imagenes': 'url_imagen'})\n",
    "images_df.shape"
   ]
  },
  {
   "cell_type": "code",
   "execution_count": 10,
   "metadata": {},
   "outputs": [
    {
     "data": {
      "text/plain": [
       "Index(['codigo', 'url_imagen'], dtype='object')"
      ]
     },
     "execution_count": 10,
     "metadata": {},
     "output_type": "execute_result"
    }
   ],
   "source": [
    "images_df.to_csv('../data/processed/images.csv', index=False)\n",
    "images_df.columns"
   ]
  },
  {
   "cell_type": "code",
   "execution_count": 11,
   "metadata": {},
   "outputs": [],
   "source": [
    "from src import extract_features"
   ]
  },
  {
   "cell_type": "code",
   "execution_count": 12,
   "metadata": {},
   "outputs": [],
   "source": [
    "df['jacuzzi'] = df.featured_interior.apply(extract_features.check_jacuzzi)\n",
    "df['piso'] = df.featured_interior.apply(extract_features.extract_piso)\n",
    "df['closets'] = df.featured_interior.apply(extract_features.extract_closets)\n",
    "df['chimenea'] = df.featured_interior.apply(extract_features.check_chimeny)\n",
    "df['permite_mascotas'] = df.featured_interior.apply(extract_features.check_mascotas)\n",
    "df['gimnasio'] = df.featured_zona_comun.apply(extract_features.check_gimnasio)\n",
    "df['ascensor'] = df.featured_exterior.apply(extract_features.check_ascensor)\n",
    "df['conjunto_cerrado'] = df.featured_exterior.apply(extract_features.check_conjunto_cerrado)"
   ]
  },
  {
   "cell_type": "code",
   "execution_count": 13,
   "metadata": {},
   "outputs": [
    {
     "data": {
      "text/plain": [
       "Index(['codigo', 'ciudad', 'tipo_propiedad', 'tipo_operacion', 'precio_venta',\n",
       "       'area', 'habitaciones', 'banos', 'administracion', 'parqueaderos',\n",
       "       'sector', 'sector_comun', 'estrato', 'antiguedad', 'estado', 'compañia',\n",
       "       'descripcion', 'website', 'last_view', 'datetime', 'precio_arriendo',\n",
       "       'longitud', 'latitud', 'fecha_actualizacion_precio_arriendo',\n",
       "       'precio_arriendo_anterior', 'fecha_actualizacion_precio_venta',\n",
       "       'precio_venta_anterior', 'jacuzzi', 'piso', 'closets', 'chimenea',\n",
       "       'permite_mascotas', 'gimnasio', 'ascensor', 'conjunto_cerrado'],\n",
       "      dtype='object')"
      ]
     },
     "execution_count": 13,
     "metadata": {},
     "output_type": "execute_result"
    }
   ],
   "source": [
    "df = df.drop(columns=['featured_interior', 'featured_zona_comun', 'featured_exterior', 'featured_sector', 'imagenes'], axis=1)\n",
    "df.columns"
   ]
  },
  {
   "cell_type": "code",
   "execution_count": 15,
   "metadata": {},
   "outputs": [],
   "source": [
    "df.to_csv('../data/interim/apartments.csv', index=False)"
   ]
  },
  {
   "cell_type": "code",
   "execution_count": 16,
   "metadata": {},
   "outputs": [
    {
     "data": {
      "text/html": [
       "<details>\n",
       "<summary>Click to view session information</summary>\n",
       "<pre>\n",
       "-----\n",
       "dotenv              NA\n",
       "numpy               1.24.3\n",
       "pandas              2.1.0\n",
       "pymongo             4.4.1\n",
       "session_info        1.0.0\n",
       "src                 NA\n",
       "-----\n",
       "</pre>\n",
       "<details>\n",
       "<summary>Click to view modules imported as dependencies</summary>\n",
       "<pre>\n",
       "OpenSSL             23.2.0\n",
       "asttokens           NA\n",
       "attr                23.1.0\n",
       "backcall            0.2.0\n",
       "bson                NA\n",
       "certifi             2023.07.22\n",
       "chardet             5.2.0\n",
       "charset_normalizer  3.2.0\n",
       "cloudpickle         2.2.1\n",
       "colorama            0.4.6\n",
       "comm                0.1.4\n",
       "cryptography        41.0.2\n",
       "cython_runtime      NA\n",
       "dateutil            2.8.2\n",
       "debugpy             1.8.0\n",
       "decorator           5.1.1\n",
       "dns                 2.4.1\n",
       "executing           1.2.0\n",
       "idna                3.4\n",
       "ipykernel           6.25.2\n",
       "jedi                0.19.0\n",
       "mpl_toolkits        NA\n",
       "packaging           23.1\n",
       "parso               0.8.3\n",
       "pickleshare         0.7.5\n",
       "platformdirs        3.10.0\n",
       "prompt_toolkit      3.0.39\n",
       "psutil              5.9.5\n",
       "pure_eval           0.2.2\n",
       "pyarrow             12.0.1\n",
       "pyasn1              0.5.0\n",
       "pyasn1_modules      0.3.0\n",
       "pydev_ipython       NA\n",
       "pydevconsole        NA\n",
       "pydevd              2.9.5\n",
       "pydevd_file_utils   NA\n",
       "pydevd_plugins      NA\n",
       "pydevd_tracing      NA\n",
       "pygments            2.16.1\n",
       "pythoncom           NA\n",
       "pytz                2023.3\n",
       "pywin32_bootstrap   NA\n",
       "pywin32_system32    NA\n",
       "pywintypes          NA\n",
       "requests            2.31.0\n",
       "service_identity    23.1.0\n",
       "six                 1.16.0\n",
       "socks               1.7.1\n",
       "stack_data          0.6.2\n",
       "tornado             6.3.3\n",
       "traitlets           5.10.0\n",
       "typing_extensions   NA\n",
       "urllib3             1.26.16\n",
       "wcwidth             0.2.6\n",
       "zmq                 25.1.1\n",
       "zope                NA\n",
       "</pre>\n",
       "</details> <!-- seems like this ends pre, so might as well be explicit -->\n",
       "<pre>\n",
       "-----\n",
       "IPython             8.15.0\n",
       "jupyter_client      8.3.1\n",
       "jupyter_core        5.3.1\n",
       "-----\n",
       "Python 3.11.4 (tags/v3.11.4:d2340ef, Jun  7 2023, 05:45:37) [MSC v.1934 64 bit (AMD64)]\n",
       "Windows-10-10.0.19045-SP0\n",
       "-----\n",
       "Session information updated at 2023-09-24 15:28\n",
       "</pre>\n",
       "</details>"
      ],
      "text/plain": [
       "<IPython.core.display.HTML object>"
      ]
     },
     "execution_count": 16,
     "metadata": {},
     "output_type": "execute_result"
    }
   ],
   "source": [
    "import session_info\n",
    "\n",
    "session_info.show()"
   ]
  }
 ],
 "metadata": {
  "kernelspec": {
   "display_name": "Python 3",
   "language": "python",
   "name": "python3"
  },
  "language_info": {
   "codemirror_mode": {
    "name": "ipython",
    "version": 3
   },
   "file_extension": ".py",
   "mimetype": "text/x-python",
   "name": "python",
   "nbconvert_exporter": "python",
   "pygments_lexer": "ipython3",
   "version": "0.0.0"
  },
  "orig_nbformat": 4
 },
 "nbformat": 4,
 "nbformat_minor": 2
}
